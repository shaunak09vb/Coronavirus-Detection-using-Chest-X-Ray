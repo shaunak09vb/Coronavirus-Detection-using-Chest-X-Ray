{
  "nbformat": 4,
  "nbformat_minor": 0,
  "metadata": {
    "colab": {
      "name": "Coronavirus_Detection_using_Chest_X_Ray.ipynb",
      "provenance": [],
      "collapsed_sections": []
    },
    "kernelspec": {
      "display_name": "Python 3",
      "language": "python",
      "name": "python3"
    },
    "language_info": {
      "codemirror_mode": {
        "name": "ipython",
        "version": 3
      },
      "file_extension": ".py",
      "mimetype": "text/x-python",
      "name": "python",
      "nbconvert_exporter": "python",
      "pygments_lexer": "ipython3",
      "version": "3.7.3"
    },
    "accelerator": "GPU"
  },
  "cells": [
    {
      "cell_type": "markdown",
      "metadata": {
        "id": "A4ORPmjin8Ak"
      },
      "source": [
        "# Connecting to Drive"
      ]
    },
    {
      "cell_type": "code",
      "metadata": {
        "colab": {
          "base_uri": "https://localhost:8080/"
        },
        "id": "3-ELcC51wqFK",
        "outputId": "b8ee0e6b-8cec-443e-f4e1-9bbcdefa7a1d"
      },
      "source": [
        "from google.colab import drive\n",
        "drive.mount('/content/drive')"
      ],
      "execution_count": 1,
      "outputs": [
        {
          "output_type": "stream",
          "text": [
            "Drive already mounted at /content/drive; to attempt to forcibly remount, call drive.mount(\"/content/drive\", force_remount=True).\n"
          ],
          "name": "stdout"
        }
      ]
    },
    {
      "cell_type": "markdown",
      "metadata": {
        "id": "LR910RHDn_vm"
      },
      "source": [
        "# Importing Required Libraries"
      ]
    },
    {
      "cell_type": "code",
      "metadata": {
        "collapsed": true,
        "id": "1Nl0jnOOxfU0"
      },
      "source": [
        "from imutils import paths\n",
        "import matplotlib.pyplot as plt\n",
        "import argparse\n",
        "import os\n",
        "import numpy as np\n",
        "import pandas as pd\n",
        "import os\n",
        "import shutil\n",
        "import glob\n",
        "from tensorflow.keras.preprocessing.image import ImageDataGenerator\n",
        "from keras.applications.resnet50 import preprocess_input, ResNet50\n",
        "from tensorflow.keras.layers import AveragePooling2D\n",
        "from tensorflow.keras.layers import MaxPooling2D\n",
        "from tensorflow.keras.layers import Dropout\n",
        "from tensorflow.keras.layers import Flatten\n",
        "from tensorflow.keras.layers import Dense\n",
        "from tensorflow.keras.layers import Input\n",
        "from tensorflow.keras.models import Model\n",
        "from tensorflow.keras.optimizers import Adam\n",
        "from tensorflow.keras.utils import to_categorical\n",
        "from keras.preprocessing import image\n",
        "from keras.callbacks import EarlyStopping\n",
        "from keras.callbacks import ModelCheckpoint"
      ],
      "execution_count": 2,
      "outputs": []
    },
    {
      "cell_type": "markdown",
      "metadata": {
        "id": "JXU58cEboD2G"
      },
      "source": [
        "# Setting Configuration Parameters"
      ]
    },
    {
      "cell_type": "code",
      "metadata": {
        "collapsed": true,
        "id": "esdrASaBxkge"
      },
      "source": [
        "training_path  = \"/content/drive/MyDrive/Data/Final_Set/train_test_split/train\"\n",
        "validation_path  = \"/content/drive/MyDrive/Data/Final_Set/train_test_split/validation\"\n",
        "testing_path   = \"/content/drive/MyDrive/Data/Final_Set/train_test_split/test\""
      ],
      "execution_count": 3,
      "outputs": []
    },
    {
      "cell_type": "markdown",
      "metadata": {
        "id": "kz9kfLd5pUjg"
      },
      "source": [
        "# Data Augmentation"
      ]
    },
    {
      "cell_type": "code",
      "metadata": {
        "colab": {
          "base_uri": "https://localhost:8080/"
        },
        "id": "M8Wp_o7jf2vk",
        "outputId": "3790aeb1-a1d8-48f0-96a2-860dae8d3efd"
      },
      "source": [
        "training_data_generator = ImageDataGenerator(preprocessing_function= preprocess_input, \n",
        "                                    zoom_range= 0.2, \n",
        "                                    horizontal_flip= True, \n",
        "                                    shear_range= 0.2,\n",
        "                                    \n",
        "                                    )\n",
        "\n",
        "training = training_data_generator.flow_from_directory(directory=training_path, \n",
        "                                           target_size=(224,224))"
      ],
      "execution_count": 4,
      "outputs": [
        {
          "output_type": "stream",
          "text": [
            "Found 7800 images belonging to 2 classes.\n"
          ],
          "name": "stdout"
        }
      ]
    },
    {
      "cell_type": "code",
      "metadata": {
        "id": "oDdK4aiYg_AT",
        "colab": {
          "base_uri": "https://localhost:8080/"
        },
        "outputId": "e2b4d6a8-8b9e-4fba-b95b-199bdbb5614a"
      },
      "source": [
        "validation_data_generator = ImageDataGenerator(preprocessing_function= preprocess_input  )\n",
        "\n",
        "validation = validation_data_generator.flow_from_directory(directory=validation_path, \n",
        "                                                target_size=(224,224))"
      ],
      "execution_count": 5,
      "outputs": [
        {
          "output_type": "stream",
          "text": [
            "Found 1008 images belonging to 2 classes.\n"
          ],
          "name": "stdout"
        }
      ]
    },
    {
      "cell_type": "code",
      "metadata": {
        "id": "vj_24TaCg-zH",
        "colab": {
          "base_uri": "https://localhost:8080/"
        },
        "outputId": "54f9063a-406e-453e-bce7-44e32fe6998c"
      },
      "source": [
        "testing_data_generator = ImageDataGenerator(preprocessing_function= preprocess_input )\n",
        "\n",
        "testing = testing_data_generator.flow_from_directory(directory=testing_path , \n",
        "                                          target_size=(224,224), \n",
        "                                          shuffle= False)"
      ],
      "execution_count": 6,
      "outputs": [
        {
          "output_type": "stream",
          "text": [
            "Found 800 images belonging to 2 classes.\n"
          ],
          "name": "stdout"
        }
      ]
    },
    {
      "cell_type": "markdown",
      "metadata": {
        "id": "wndVrGWqpXa-"
      },
      "source": [
        "# Model Creation"
      ]
    },
    {
      "cell_type": "code",
      "metadata": {
        "id": "M6IdKG8GytIX"
      },
      "source": [
        "class_type = {0:'Covid', 1:'Normal'}"
      ],
      "execution_count": 34,
      "outputs": []
    },
    {
      "cell_type": "code",
      "metadata": {
        "id": "4OiBUNVpNmMa"
      },
      "source": [
        "INIT_LR = 1e-1"
      ],
      "execution_count": 35,
      "outputs": []
    },
    {
      "cell_type": "code",
      "metadata": {
        "id": "mNwwvPn2x5-I"
      },
      "source": [
        "bModel = ResNet50(weights=\"imagenet\", include_top=False, input_tensor=Input(shape=(224, 224, 3)))\n",
        "hModel = bModel.output\n",
        "hModel = Flatten(name=\"flatten\")(hModel)\n",
        "hModel = Dense(2, activation=\"sigmoid\", kernel_initializer='glorot_uniform')(hModel)\n",
        "model = Model(inputs=bModel.input, outputs=hModel)\n",
        "for layer in bModel.layers:\n",
        "    layer.trainable = False"
      ],
      "execution_count": 36,
      "outputs": []
    },
    {
      "cell_type": "code",
      "metadata": {
        "id": "_RFjmYyCqFOX"
      },
      "source": [
        "#model.summary()"
      ],
      "execution_count": 37,
      "outputs": []
    },
    {
      "cell_type": "code",
      "metadata": {
        "id": "TCmbbofdiRHL"
      },
      "source": [
        "es = EarlyStopping(monitor= \"val_accuracy\" , min_delta= 0.01, patience= 5, verbose=1)\n",
        "mc = ModelCheckpoint(filepath=\"/content/drive/MyDrive/Data/Trial_Model/Covid_model_5.h5\", monitor=\"val_accuracy\", verbose=1, save_best_only= True)"
      ],
      "execution_count": 38,
      "outputs": []
    },
    {
      "cell_type": "code",
      "metadata": {
        "colab": {
          "base_uri": "https://localhost:8080/"
        },
        "id": "BYwS7oFVN28J",
        "outputId": "26322ce8-1980-439e-871c-bd8550d261c7"
      },
      "source": [
        "opt = Adam(lr=INIT_LR)"
      ],
      "execution_count": 39,
      "outputs": [
        {
          "output_type": "stream",
          "text": [
            "/usr/local/lib/python3.7/dist-packages/tensorflow/python/keras/optimizer_v2/optimizer_v2.py:375: UserWarning: The `lr` argument is deprecated, use `learning_rate` instead.\n",
            "  \"The `lr` argument is deprecated, use `learning_rate` instead.\")\n"
          ],
          "name": "stderr"
        }
      ]
    },
    {
      "cell_type": "code",
      "metadata": {
        "id": "sAhrwXWjyTp5",
        "colab": {
          "base_uri": "https://localhost:8080/"
        },
        "outputId": "f6bc31ea-5eb6-4bcd-af21-2846273e3f5b"
      },
      "source": [
        "model.compile(optimizer=opt , loss = 'categorical_crossentropy', metrics=['accuracy'])\n",
        "print(\"Compiling Starts\")\n",
        "hist = model.fit_generator(training, steps_per_epoch= 10, epochs= 30, validation_data= validation , validation_steps= 16, callbacks=[es,mc])"
      ],
      "execution_count": 40,
      "outputs": [
        {
          "output_type": "stream",
          "text": [
            "Compiling Starts\n"
          ],
          "name": "stdout"
        },
        {
          "output_type": "stream",
          "text": [
            "/usr/local/lib/python3.7/dist-packages/tensorflow/python/keras/engine/training.py:1940: UserWarning: `Model.fit_generator` is deprecated and will be removed in a future version. Please use `Model.fit`, which supports generators.\n",
            "  warnings.warn('`Model.fit_generator` is deprecated and '\n"
          ],
          "name": "stderr"
        },
        {
          "output_type": "stream",
          "text": [
            "Epoch 1/30\n",
            "10/10 [==============================] - 78s 7s/step - loss: 1028.1581 - accuracy: 0.6000 - val_loss: 1187.6273 - val_accuracy: 0.6113\n",
            "\n",
            "Epoch 00001: val_accuracy improved from -inf to 0.61133, saving model to /content/drive/MyDrive/Data/Trial_Model/Covid_model_5.h5\n"
          ],
          "name": "stdout"
        },
        {
          "output_type": "stream",
          "text": [
            "/usr/local/lib/python3.7/dist-packages/tensorflow/python/keras/utils/generic_utils.py:497: CustomMaskWarning: Custom mask layers require a config and must override get_config. When loading, the custom mask layer must be passed to the custom_objects argument.\n",
            "  category=CustomMaskWarning)\n"
          ],
          "name": "stderr"
        },
        {
          "output_type": "stream",
          "text": [
            "Epoch 2/30\n",
            "10/10 [==============================] - 69s 7s/step - loss: 623.4247 - accuracy: 0.7625 - val_loss: 308.2332 - val_accuracy: 0.8438\n",
            "\n",
            "Epoch 00002: val_accuracy improved from 0.61133 to 0.84375, saving model to /content/drive/MyDrive/Data/Trial_Model/Covid_model_5.h5\n",
            "Epoch 3/30\n",
            "10/10 [==============================] - 68s 7s/step - loss: 385.6270 - accuracy: 0.8344 - val_loss: 295.7294 - val_accuracy: 0.8535\n",
            "\n",
            "Epoch 00003: val_accuracy improved from 0.84375 to 0.85352, saving model to /content/drive/MyDrive/Data/Trial_Model/Covid_model_5.h5\n",
            "Epoch 4/30\n",
            "10/10 [==============================] - 69s 7s/step - loss: 345.5038 - accuracy: 0.8500 - val_loss: 606.4498 - val_accuracy: 0.7910\n",
            "\n",
            "Epoch 00004: val_accuracy did not improve from 0.85352\n",
            "Epoch 5/30\n",
            "10/10 [==============================] - 57s 6s/step - loss: 316.7279 - accuracy: 0.8156 - val_loss: 271.9153 - val_accuracy: 0.8672\n",
            "\n",
            "Epoch 00005: val_accuracy improved from 0.85352 to 0.86719, saving model to /content/drive/MyDrive/Data/Trial_Model/Covid_model_5.h5\n",
            "Epoch 6/30\n",
            "10/10 [==============================] - 59s 6s/step - loss: 360.2007 - accuracy: 0.8125 - val_loss: 201.5783 - val_accuracy: 0.8613\n",
            "\n",
            "Epoch 00006: val_accuracy did not improve from 0.86719\n",
            "Epoch 7/30\n",
            "10/10 [==============================] - 51s 5s/step - loss: 268.9488 - accuracy: 0.8687 - val_loss: 256.3030 - val_accuracy: 0.8516\n",
            "\n",
            "Epoch 00007: val_accuracy did not improve from 0.86719\n",
            "Epoch 8/30\n",
            "10/10 [==============================] - 59s 6s/step - loss: 205.4681 - accuracy: 0.8750 - val_loss: 193.5375 - val_accuracy: 0.8789\n",
            "\n",
            "Epoch 00008: val_accuracy improved from 0.86719 to 0.87891, saving model to /content/drive/MyDrive/Data/Trial_Model/Covid_model_5.h5\n",
            "Epoch 9/30\n",
            "10/10 [==============================] - 48s 5s/step - loss: 156.1629 - accuracy: 0.8625 - val_loss: 169.0171 - val_accuracy: 0.8945\n",
            "\n",
            "Epoch 00009: val_accuracy improved from 0.87891 to 0.89453, saving model to /content/drive/MyDrive/Data/Trial_Model/Covid_model_5.h5\n",
            "Epoch 10/30\n",
            "10/10 [==============================] - 55s 6s/step - loss: 121.2182 - accuracy: 0.9062 - val_loss: 119.8400 - val_accuracy: 0.9004\n",
            "\n",
            "Epoch 00010: val_accuracy improved from 0.89453 to 0.90039, saving model to /content/drive/MyDrive/Data/Trial_Model/Covid_model_5.h5\n",
            "Epoch 11/30\n",
            "10/10 [==============================] - 46s 5s/step - loss: 176.7230 - accuracy: 0.8781 - val_loss: 108.3666 - val_accuracy: 0.9004\n",
            "\n",
            "Epoch 00011: val_accuracy did not improve from 0.90039\n",
            "Epoch 12/30\n",
            "10/10 [==============================] - 46s 5s/step - loss: 188.7272 - accuracy: 0.8750 - val_loss: 175.0667 - val_accuracy: 0.8828\n",
            "\n",
            "Epoch 00012: val_accuracy did not improve from 0.90039\n",
            "Epoch 13/30\n",
            "10/10 [==============================] - 40s 4s/step - loss: 172.0129 - accuracy: 0.8656 - val_loss: 233.0246 - val_accuracy: 0.8613\n",
            "\n",
            "Epoch 00013: val_accuracy did not improve from 0.90039\n",
            "Epoch 14/30\n",
            "10/10 [==============================] - 38s 4s/step - loss: 193.6893 - accuracy: 0.8781 - val_loss: 263.5524 - val_accuracy: 0.8711\n",
            "\n",
            "Epoch 00014: val_accuracy did not improve from 0.90039\n",
            "Epoch 00014: early stopping\n"
          ],
          "name": "stdout"
        }
      ]
    },
    {
      "cell_type": "code",
      "metadata": {
        "colab": {
          "base_uri": "https://localhost:8080/",
          "height": 513
        },
        "id": "_jPcmMSz5gq8",
        "outputId": "a5363222-421a-4a02-9f82-fb33e3d661ca"
      },
      "source": [
        "# plot the loss\n",
        "plt.plot(hist.history['loss'], label='train loss')\n",
        "plt.plot(hist.history['val_loss'], label='val loss')\n",
        "plt.legend()\n",
        "plt.show()\n",
        "plt.savefig('LossVal_loss')\n",
        "\n",
        "# plot the accuracy\n",
        "plt.plot(hist.history['accuracy'], label='train acc')\n",
        "plt.plot(hist.history['val_accuracy'], label='val acc')\n",
        "plt.legend()\n",
        "plt.show()"
      ],
      "execution_count": 41,
      "outputs": [
        {
          "output_type": "display_data",
          "data": {
            "image/png": "[encoded data removed]",
            "text/plain": [
              "<Figure size 432x288 with 1 Axes>"
            ]
          },
          "metadata": {
            "tags": [],
            "needs_background": "light"
          }
        },
        {
          "output_type": "display_data",
          "data": {
            "image/png": "[encoded data removed]",
            "text/plain": [
              "<Figure size 432x288 with 1 Axes>"
            ]
          },
          "metadata": {
            "tags": [],
            "needs_background": "light"
          }
        }
      ]
    },
    {
      "cell_type": "markdown",
      "metadata": {
        "id": "hQrQslaHqUvL"
      },
      "source": [
        "# Testing the Model"
      ]
    },
    {
      "cell_type": "markdown",
      "metadata": {
        "id": "WHSdDWu4ENtH"
      },
      "source": [
        "## Using Test set"
      ]
    },
    {
      "cell_type": "code",
      "metadata": {
        "id": "9Wq508Do8Y4Y"
      },
      "source": [
        "import tensorflow as tf \n",
        "\n",
        "model = tf.keras.models.load_model('/content/drive/MyDrive/Data/Trial_Model/Covid_model_5.h5')"
      ],
      "execution_count": 42,
      "outputs": []
    },
    {
      "cell_type": "code",
      "metadata": {
        "id": "Fh37dGSr4Jm3"
      },
      "source": [
        "y_test=testing.classes"
      ],
      "execution_count": 43,
      "outputs": []
    },
    {
      "cell_type": "code",
      "metadata": {
        "id": "-OGYVZs64uVF"
      },
      "source": [
        "results=model.predict(testing)\n",
        "results = np.argmax(results, axis=1)"
      ],
      "execution_count": 44,
      "outputs": []
    },
    {
      "cell_type": "code",
      "metadata": {
        "colab": {
          "base_uri": "https://localhost:8080/"
        },
        "id": "q8lWF4qOldox",
        "outputId": "cd762f91-f35f-4668-9c5b-d16b159b9d76"
      },
      "source": [
        "acc = model.evaluate(testing)[1] \n",
        "\n",
        "print(f\"The accuracy of your model is = {acc*100} %\")"
      ],
      "execution_count": 45,
      "outputs": [
        {
          "output_type": "stream",
          "text": [
            "25/25 [==============================] - 7s 237ms/step - loss: 95.8742 - accuracy: 0.9125\n",
            "The accuracy of your model is = 91.25000238418579 %\n"
          ],
          "name": "stdout"
        }
      ]
    },
    {
      "cell_type": "code",
      "metadata": {
        "colab": {
          "base_uri": "https://localhost:8080/"
        },
        "id": "1uhAq0Bt6jA-",
        "outputId": "997bbb82-fef5-4dce-9dda-4c0a78f55026"
      },
      "source": [
        "from sklearn.metrics import classification_report\n",
        "print(classification_report(y_test,results,target_names=['Covid','Normal']))"
      ],
      "execution_count": 46,
      "outputs": [
        {
          "output_type": "stream",
          "text": [
            "              precision    recall  f1-score   support\n",
            "\n",
            "       Covid       0.92      0.94      0.93       500\n",
            "      Normal       0.90      0.86      0.88       300\n",
            "\n",
            "    accuracy                           0.91       800\n",
            "   macro avg       0.91      0.90      0.91       800\n",
            "weighted avg       0.91      0.91      0.91       800\n",
            "\n"
          ],
          "name": "stdout"
        }
      ]
    },
    {
      "cell_type": "code",
      "metadata": {
        "colab": {
          "base_uri": "https://localhost:8080/",
          "height": 295
        },
        "id": "6gouwDUV_bIy",
        "outputId": "a420779c-7438-45c4-ffc3-cb88c3b9c519"
      },
      "source": [
        "from sklearn.metrics import confusion_matrix\n",
        "import seaborn as sns\n",
        "\n",
        "cm = confusion_matrix(y_test, results)\n",
        "\n",
        "ax= plt.subplot()\n",
        "sns.heatmap(cm, annot=True, cmap='Blues', fmt=\".0f\")\n",
        "\n",
        "ax.set_xlabel('Predicted labels');\n",
        "ax.set_ylabel('True labels'); \n",
        "ax.set_title('Confusion Matrix'); \n",
        "ax.xaxis.set_ticklabels(['Covid','Normal']); \n",
        "ax.yaxis.set_ticklabels(['Covid','Normal']);"
      ],
      "execution_count": 47,
      "outputs": [
        {
          "output_type": "display_data",
          "data": {
            "image/png": "[encoded data removed]",
            "text/plain": [
              "<Figure size 432x288 with 2 Axes>"
            ]
          },
          "metadata": {
            "tags": [],
            "needs_background": "light"
          }
        }
      ]
    },
    {
      "cell_type": "markdown",
      "metadata": {
        "id": "cJ45cpJBERNj"
      },
      "source": [
        "## Using image from an external source"
      ]
    },
    {
      "cell_type": "code",
      "metadata": {
        "id": "jGn20y-hv0ew"
      },
      "source": [
        "def get_img_array(img_path):\n",
        "  path = img_path\n",
        "  img = image.load_img(path, target_size=(224,224,3))\n",
        "  img = image.img_to_array(img)\n",
        "  img = np.expand_dims(img , axis= 0 )\n",
        "  \n",
        "  return img"
      ],
      "execution_count": 48,
      "outputs": []
    },
    {
      "cell_type": "code",
      "metadata": {
        "colab": {
          "base_uri": "https://localhost:8080/",
          "height": 367
        },
        "id": "4UadQamqv-34",
        "outputId": "4f3a0e4b-4434-40c9-b7dc-0e1152fef0bb"
      },
      "source": [
        "path = \"/content/drive/MyDrive/Data/Final_Set/train_test_split/test/Covid/COVID-510.png\"\n",
        "\n",
        "img = get_img_array(path)\n",
        "\n",
        "result = class_type[np.argmax(model.predict(img))]\n",
        "print(f\"The given X-Ray image is of type : {result}\")\n",
        "print()\n",
        "print(f\"The chances of image being Covid is : {round(model.predict(img)[0][0]*100,2)} %\")\n",
        "print()\n",
        "print(f\"The chances of image being Normal is : {round(model.predict(img)[0][1]*100,2) }%\")\n",
        " \n",
        "plt.imshow(img[0]/255, cmap = \"gray\")\n",
        "plt.title(\"input image\")\n",
        "plt.show()"
      ],
      "execution_count": 49,
      "outputs": [
        {
          "output_type": "stream",
          "text": [
            "The given X-Ray image is of type : Covid\n",
            "\n",
            "The chances of image being Covid is : 100.0 %\n",
            "\n",
            "The chances of image being Normal is : 0.0%\n"
          ],
          "name": "stdout"
        },
        {
          "output_type": "display_data",
          "data": {
            "image/png": "[encoded data removed]",
            "text/plain": [
              "<Figure size 432x288 with 1 Axes>"
            ]
          },
          "metadata": {
            "tags": [],
            "needs_background": "light"
          }
        }
      ]
    }
  ]
}